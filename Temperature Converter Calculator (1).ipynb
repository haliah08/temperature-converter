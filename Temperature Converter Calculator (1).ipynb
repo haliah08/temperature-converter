{
 "cells": [
  {
   "cell_type": "code",
   "execution_count": 1,
   "id": "88a4f395-c723-4872-b66f-5178c5a76bdb",
   "metadata": {},
   "outputs": [
    {
     "name": "stdout",
     "output_type": "stream",
     "text": [
      " 20 Celcius is equal to 68.0 Fahrenheit\n"
     ]
    }
   ],
   "source": [
    "# Write your code here\n",
    "#Task 2. Temperature Converter Calculator\n",
    "\n",
    "temp = 20\n",
    "from_unit = 'celcius'\n",
    "from_unit = from_unit.title() #in lower or upper case the input, the output format will be the same\n",
    "to_unit = 'fahrenheit'\n",
    "to_unit = to_unit.title()\n",
    "\n",
    "# Conversion from Celsius to Kelvin, Fahrenheit, and to Celcius #\n",
    "if (from_unit == 'Celcius' ) :\n",
    "    if (to_unit == 'Kelvin' ):\n",
    "        celcius_to_kelvin = temp + 273.15\n",
    "        print (f\" {temp} {from_unit} is equal to {celcius_to_kelvin} {to_unit}\" )\n",
    "\n",
    "    elif (to_unit == 'Fahrenheit' ):\n",
    "        celcius_to_fahrenheit = ((temp*(9/5)) + 32 )\n",
    "        print  (f\" {temp} {from_unit} is equal to {celcius_to_fahrenheit} {to_unit}\" )\n",
    "\n",
    "    elif (to_unit == 'Celcius' ):\n",
    "        print  (f\" {temp} {from_unit} is equal to {temp} {to_unit}\" )\n",
    "\n",
    "# Conversion from Kelvin to Kelvin, Fahrenheit, and to Celcius #\n",
    "elif (from_unit == 'Kelvin' ):\n",
    "    if (to_unit == 'Celcius' ) :\n",
    "        kelvin_to_celcius = round (temp - 273.15, 1)\n",
    "        print  (f\" {temp} {from_unit} is equal to {kelvin_to_celcius} {to_unit}\" )\n",
    "\n",
    "    elif (to_unit == 'Fahrenheit' ):\n",
    "        kelvin_to_fahrenheit = round (((temp - 273.15)*(9/5) + 32),1)\n",
    "        print  (f\" {temp} {from_unit} is equal to {kelvin_to_fahrenheit} {to_unit}\" )\n",
    "\n",
    "    elif (to_unit == 'Kelvin' ):\n",
    "        print  (f\" {temp} {from_unit} is equal to {temp} {to_unit}\" )\n",
    "\n",
    "# Conversion from Fahrenheit to Kelvin, Fahrenheit, and to Celcius #\n",
    "elif (from_unit == 'Fahrenheit') :\n",
    "    if (to_unit == 'Celcius') :\n",
    "        fahrenheit_to_celcius = round ((temp-32)*(5/9),1)\n",
    "        print  (f\" {temp} {from_unit} is equal to {fahrenheit_to_celcius} {to_unit}\" )\n",
    "\n",
    "    elif (to_unit == 'Kelvin' ) :\n",
    "        fahrenheit_to_kelvin = round (((temp-32)*(5/9) + 273.15),1)\n",
    "        print  (f\" {temp} {from_unit} is equal to {fahrenheit_to_kelvin} {to_unit}\" )\n",
    "\n",
    "    elif (to_unit == 'Fahrenheit' ) :\n",
    "        print  (f\" {temp} {from_unit} is equal to {temp} {to_unit}\" )\n",
    "\n",
    "#condition where the input is not\n",
    "else :\n",
    "    print (\"Wrong Input\")"
   ]
  },
  {
   "cell_type": "code",
   "execution_count": null,
   "id": "a1c2e299-a89c-491f-a0a4-b4577cc3dd2e",
   "metadata": {},
   "outputs": [],
   "source": []
  }
 ],
 "metadata": {
  "kernelspec": {
   "display_name": "Python 3 (ipykernel)",
   "language": "python",
   "name": "python3"
  },
  "language_info": {
   "codemirror_mode": {
    "name": "ipython",
    "version": 3
   },
   "file_extension": ".py",
   "mimetype": "text/x-python",
   "name": "python",
   "nbconvert_exporter": "python",
   "pygments_lexer": "ipython3",
   "version": "3.11.7"
  }
 },
 "nbformat": 4,
 "nbformat_minor": 5
}
